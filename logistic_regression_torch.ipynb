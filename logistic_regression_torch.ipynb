{
 "cells": [
  {
   "cell_type": "code",
   "execution_count": 1,
   "id": "d58c5411",
   "metadata": {},
   "outputs": [],
   "source": [
    "import torch\n",
    "from torchvision.datasets import MNIST"
   ]
  },
  {
   "cell_type": "code",
   "execution_count": 2,
   "id": "bb672dfd",
   "metadata": {},
   "outputs": [],
   "source": [
    "dataset=MNIST(root='data/',download=True)"
   ]
  },
  {
   "cell_type": "code",
   "execution_count": 3,
   "id": "90f88274",
   "metadata": {},
   "outputs": [
    {
     "data": {
      "text/plain": [
       "60000"
      ]
     },
     "execution_count": 3,
     "metadata": {},
     "output_type": "execute_result"
    }
   ],
   "source": [
    "len(dataset)"
   ]
  },
  {
   "cell_type": "code",
   "execution_count": 4,
   "id": "9a73936f",
   "metadata": {},
   "outputs": [],
   "source": [
    "test_dataset=MNIST(root='data/',train=False,download=True)"
   ]
  },
  {
   "cell_type": "code",
   "execution_count": 5,
   "id": "ebc38961",
   "metadata": {},
   "outputs": [
    {
     "data": {
      "text/plain": [
       "(<PIL.Image.Image image mode=L size=28x28 at 0x23D2A3F7130>, 3)"
      ]
     },
     "execution_count": 5,
     "metadata": {},
     "output_type": "execute_result"
    }
   ],
   "source": [
    "dataset[7]"
   ]
  },
  {
   "cell_type": "code",
   "execution_count": 6,
   "id": "f9118bb4",
   "metadata": {},
   "outputs": [],
   "source": [
    "import matplotlib.pyplot as plt\n",
    "%matplotlib inline"
   ]
  },
  {
   "cell_type": "code",
   "execution_count": 7,
   "id": "df08ce40",
   "metadata": {},
   "outputs": [
    {
     "name": "stdout",
     "output_type": "stream",
     "text": [
      "1\n"
     ]
    },
    {
     "data": {
      "image/png": "[encoded data removed]",
      "text/plain": [
       "<Figure size 432x288 with 1 Axes>"
      ]
     },
     "metadata": {
      "needs_background": "light"
     },
     "output_type": "display_data"
    }
   ],
   "source": [
    "image,label=dataset[6]\n",
    "plt.imshow(image, cmap='gray')\n",
    "print(label)"
   ]
  },
  {
   "cell_type": "code",
   "execution_count": 8,
   "id": "d308c139",
   "metadata": {},
   "outputs": [],
   "source": [
    "import torchvision.transforms as transforms"
   ]
  },
  {
   "cell_type": "code",
   "execution_count": 9,
   "id": "ebdc72f9",
   "metadata": {},
   "outputs": [],
   "source": [
    "dataset=MNIST(root='data/',train=True,transform=transforms.ToTensor())"
   ]
  },
  {
   "cell_type": "code",
   "execution_count": 10,
   "id": "24dc7b45",
   "metadata": {},
   "outputs": [
    {
     "name": "stdout",
     "output_type": "stream",
     "text": [
      "torch.Size([1, 28, 28]) 5\n"
     ]
    }
   ],
   "source": [
    "img_tensor,label=dataset[0]\n",
    "print(img_tensor.shape,label)"
   ]
  },
  {
   "cell_type": "code",
   "execution_count": 11,
   "id": "0f070fe5",
   "metadata": {},
   "outputs": [
    {
     "data": {
      "text/plain": [
       "array([42363, 21379, 20609, 43274,  4182])"
      ]
     },
     "execution_count": 11,
     "metadata": {},
     "output_type": "execute_result"
    }
   ],
   "source": [
    "import numpy as np\n",
    "n=60000\n",
    "val_pct=0.1\n",
    "n_val=val_pct *n\n",
    "idxs=np.random.permutation(n)\n",
    "idxs[:5]"
   ]
  },
  {
   "cell_type": "code",
   "execution_count": 13,
   "id": "8e2c3471",
   "metadata": {},
   "outputs": [],
   "source": [
    "def split_indices(n,val_pct):\n",
    "    nval=int(n*val_pct)\n",
    "    idxs=np.random.permutation(n)\n",
    "    return idxs[nval:],idxs[:nval]"
   ]
  },
  {
   "cell_type": "code",
   "execution_count": 14,
   "id": "ce837935",
   "metadata": {},
   "outputs": [],
   "source": [
    "train_indices, val_indices=split_indices(len(dataset),0.2)"
   ]
  },
  {
   "cell_type": "code",
   "execution_count": 15,
   "id": "9a877751",
   "metadata": {},
   "outputs": [
    {
     "name": "stdout",
     "output_type": "stream",
     "text": [
      "48000 12000\n",
      "first few validation indices   [38128 17219 33181 37375 50526 52160 25764 42316 30591 56919]\n"
     ]
    }
   ],
   "source": [
    "print(len(train_indices),len(val_indices))\n",
    "print(\"first few validation indices  \",val_indices[0:10])"
   ]
  },
  {
   "cell_type": "code",
   "execution_count": 16,
   "id": "01be2832",
   "metadata": {},
   "outputs": [],
   "source": [
    "from torch.utils.data.sampler import SubsetRandomSampler\n",
    "from torch.utils.data.dataloader import DataLoader"
   ]
  },
  {
   "cell_type": "code",
   "execution_count": 17,
   "id": "dba2e6cb",
   "metadata": {},
   "outputs": [],
   "source": [
    "batch_size=100\n",
    "\n",
    "train_sampler=SubsetRandomSampler(train_indices)\n",
    "train_loader=DataLoader(dataset, batch_size, sampler=train_sampler)\n",
    "\n",
    "val_sampler=SubsetRandomSampler(val_indices)\n",
    "val_loader=DataLoader(dataset,batch_size,sampler=val_sampler)\n"
   ]
  },
  {
   "cell_type": "markdown",
   "id": "a40eff23",
   "metadata": {},
   "source": [
    "# Save and commit the notebook"
   ]
  },
  {
   "cell_type": "code",
   "execution_count": 19,
   "id": "08634252",
   "metadata": {},
   "outputs": [],
   "source": [
    "import jovian"
   ]
  },
  {
   "cell_type": "code",
   "execution_count": 34,
   "id": "2161f24a",
   "metadata": {},
   "outputs": [
    {
     "data": {
      "application/javascript": [
       "window.require && require([\"base/js/namespace\"],function(Jupyter){Jupyter.notebook.save_checkpoint()})"
      ],
      "text/plain": [
       "<IPython.core.display.Javascript object>"
      ]
     },
     "metadata": {},
     "output_type": "display_data"
    },
    {
     "name": "stdout",
     "output_type": "stream",
     "text": [
      "[jovian] Committed successfully! https://jovian.ai/v-jha85/torch-logistic-regression\u001b[0m\r\n"
     ]
    },
    {
     "data": {
      "text/plain": [
       "'https://jovian.ai/v-jha85/torch-logistic-regression'"
      ]
     },
     "execution_count": 34,
     "metadata": {},
     "output_type": "execute_result"
    }
   ],
   "source": [
    "jovian.commit()"
   ]
  },
  {
   "cell_type": "code",
   "execution_count": 18,
   "id": "a322d7d2",
   "metadata": {},
   "outputs": [],
   "source": [
    "import torch.nn as nn\n",
    "input_size=28*28\n",
    "num_classes=10\n"
   ]
  },
  {
   "cell_type": "code",
   "execution_count": 19,
   "id": "486016f8",
   "metadata": {},
   "outputs": [
    {
     "name": "stdout",
     "output_type": "stream",
     "text": [
      "torch.Size([10, 784])\n",
      "torch.Size([10])\n"
     ]
    }
   ],
   "source": [
    "#define model\n",
    "model=nn.Linear(input_size,num_classes)\n",
    "print(model.weight.shape)\n",
    "print(model.bias.shape)"
   ]
  },
  {
   "cell_type": "code",
   "execution_count": 20,
   "id": "58ec9b86",
   "metadata": {},
   "outputs": [
    {
     "data": {
      "text/plain": [
       "Parameter containing:\n",
       "tensor([[ 0.0210,  0.0006,  0.0171,  ...,  0.0346,  0.0198, -0.0022],\n",
       "        [-0.0147, -0.0103,  0.0036,  ...,  0.0121,  0.0245,  0.0223],\n",
       "        [ 0.0300, -0.0308,  0.0080,  ...,  0.0222,  0.0334,  0.0128],\n",
       "        ...,\n",
       "        [-0.0162, -0.0087, -0.0034,  ...,  0.0098,  0.0009, -0.0087],\n",
       "        [ 0.0258, -0.0144, -0.0217,  ..., -0.0043,  0.0265, -0.0303],\n",
       "        [ 0.0078, -0.0016, -0.0237,  ...,  0.0034,  0.0334, -0.0056]],\n",
       "       requires_grad=True)"
      ]
     },
     "execution_count": 20,
     "metadata": {},
     "output_type": "execute_result"
    }
   ],
   "source": [
    "model.weight"
   ]
  },
  {
   "cell_type": "code",
   "execution_count": 21,
   "id": "851e1c06",
   "metadata": {},
   "outputs": [
    {
     "name": "stdout",
     "output_type": "stream",
     "text": [
      "tensor([1, 3, 4, 1, 7, 8, 2, 8, 4, 0, 1, 2, 6, 5, 3, 2, 6, 5, 6, 3, 1, 7, 8, 7,\n",
      "        3, 3, 7, 9, 9, 5, 9, 8, 4, 6, 4, 4, 6, 0, 2, 1, 5, 7, 9, 9, 0, 1, 0, 2,\n",
      "        5, 6, 9, 6, 5, 0, 8, 6, 8, 7, 2, 3, 5, 4, 0, 2, 7, 2, 1, 7, 9, 4, 0, 5,\n",
      "        9, 4, 3, 9, 6, 2, 1, 3, 7, 7, 8, 0, 4, 6, 1, 6, 2, 9, 5, 6, 1, 2, 5, 4,\n",
      "        3, 6, 3, 2])\n",
      "torch.Size([100, 1, 28, 28])\n"
     ]
    }
   ],
   "source": [
    "for images,labels in train_loader:\n",
    "    print(labels)\n",
    "    print(images.shape)\n",
    "    outputs=model(images.reshape(-1,784))\n",
    "    break"
   ]
  },
  {
   "cell_type": "code",
   "execution_count": 22,
   "id": "0a2ceb96",
   "metadata": {},
   "outputs": [],
   "source": [
    "class MnistModel(nn.Module):\n",
    "    def __init__(self):\n",
    "        super().__init__()\n",
    "        self.linear = nn.Linear(input_size, num_classes)\n",
    "        \n",
    "    def forward(self, xb):\n",
    "        xb = xb.reshape(-1, 784)\n",
    "        out = self.linear(xb)\n",
    "        return out\n",
    "    \n",
    "model = MnistModel()"
   ]
  },
  {
   "cell_type": "code",
   "execution_count": 23,
   "id": "a04dc9a7",
   "metadata": {},
   "outputs": [
    {
     "data": {
      "text/plain": [
       "Linear(in_features=784, out_features=10, bias=True)"
      ]
     },
     "execution_count": 23,
     "metadata": {},
     "output_type": "execute_result"
    }
   ],
   "source": [
    "model.linear"
   ]
  },
  {
   "cell_type": "code",
   "execution_count": 24,
   "id": "86bcda84",
   "metadata": {},
   "outputs": [
    {
     "name": "stdout",
     "output_type": "stream",
     "text": [
      "torch.Size([10, 784]) torch.Size([10])\n"
     ]
    },
    {
     "data": {
      "text/plain": [
       "[Parameter containing:\n",
       " tensor([[-0.0054, -0.0186, -0.0351,  ...,  0.0125,  0.0027, -0.0060],\n",
       "         [-0.0184,  0.0261,  0.0224,  ...,  0.0018, -0.0164, -0.0211],\n",
       "         [-0.0346,  0.0153, -0.0150,  ...,  0.0310,  0.0315, -0.0009],\n",
       "         ...,\n",
       "         [-0.0104, -0.0043, -0.0129,  ...,  0.0178,  0.0047, -0.0015],\n",
       "         [-0.0109, -0.0041, -0.0148,  ...,  0.0226,  0.0266, -0.0036],\n",
       "         [ 0.0311, -0.0241,  0.0230,  ..., -0.0269, -0.0040, -0.0198]],\n",
       "        requires_grad=True),\n",
       " Parameter containing:\n",
       " tensor([ 0.0025, -0.0005, -0.0070, -0.0311, -0.0165,  0.0081, -0.0191, -0.0335,\n",
       "         -0.0300,  0.0052], requires_grad=True)]"
      ]
     },
     "execution_count": 24,
     "metadata": {},
     "output_type": "execute_result"
    }
   ],
   "source": [
    "print(model.linear.weight.shape,model.linear.bias.shape)\n",
    "list(model.parameters())"
   ]
  },
  {
   "cell_type": "code",
   "execution_count": 25,
   "id": "013ec5b2",
   "metadata": {},
   "outputs": [
    {
     "name": "stdout",
     "output_type": "stream",
     "text": [
      "outputs.shape: torch.Size([100, 10])\n",
      "sample output:  tensor([[-0.1603,  0.2341,  0.3223,  0.1288,  0.2555, -0.1087, -0.0421,  0.0413,\n",
      "          0.3913, -0.2489],\n",
      "        [-0.2007,  0.2012, -0.1525,  0.2864,  0.0440,  0.3112, -0.1187, -0.0988,\n",
      "         -0.0495, -0.1251]])\n"
     ]
    }
   ],
   "source": [
    "for images,labels in train_loader:\n",
    "    outputs=model(images)\n",
    "    break\n",
    "print('outputs.shape:', outputs.shape)\n",
    "print('sample output: ', outputs[:2].data)"
   ]
  },
  {
   "cell_type": "code",
   "execution_count": 26,
   "id": "11622b1c",
   "metadata": {},
   "outputs": [],
   "source": [
    "import torch.nn.functional as F"
   ]
  },
  {
   "cell_type": "code",
   "execution_count": 27,
   "id": "26b23b78",
   "metadata": {},
   "outputs": [
    {
     "name": "stdout",
     "output_type": "stream",
     "text": [
      "tensor([8, 5, 6, 6, 8, 8, 1, 7, 6, 1, 6, 7, 1, 8, 1, 8, 8, 8, 8, 1, 2, 3, 8, 8,\n",
      "        2, 8, 6, 1, 4, 8, 5, 1, 1, 1, 8, 6, 6, 8, 1, 1, 1, 8, 8, 5, 4, 4, 1, 1,\n",
      "        9, 1, 4, 1, 4, 6, 8, 5, 1, 8, 1, 1, 2, 8, 5, 6, 8, 5, 4, 3, 1, 8, 8, 1,\n",
      "        1, 4, 8, 8, 8, 6, 8, 8, 8, 8, 8, 1, 1, 1, 1, 9, 1, 3, 7, 8, 6, 8, 8, 8,\n",
      "        9, 6, 4, 8])\n"
     ]
    }
   ],
   "source": [
    "#apply softmax to each output\n",
    "probs=F.softmax(outputs,dim=1)\n",
    "max_probs,preds=torch.max(probs,1)\n",
    "print(preds)"
   ]
  },
  {
   "cell_type": "code",
   "execution_count": 28,
   "id": "9543c4a1",
   "metadata": {},
   "outputs": [
    {
     "data": {
      "text/plain": [
       "tensor([9, 0, 7, 3, 3, 3, 0, 8, 8, 9, 5, 4, 1, 4, 9, 6, 9, 7, 7, 0, 5, 3, 9, 6,\n",
       "        1, 0, 3, 1, 5, 4, 0, 2, 4, 4, 3, 2, 5, 2, 3, 9, 0, 5, 7, 1, 7, 4, 5, 3,\n",
       "        1, 0, 7, 4, 1, 8, 5, 5, 0, 4, 2, 5, 9, 7, 0, 3, 7, 8, 0, 2, 4, 9, 6, 4,\n",
       "        2, 7, 9, 6, 9, 7, 6, 0, 6, 4, 6, 2, 8, 1, 9, 5, 9, 2, 0, 6, 3, 4, 7, 7,\n",
       "        5, 1, 1, 5])"
      ]
     },
     "execution_count": 28,
     "metadata": {},
     "output_type": "execute_result"
    }
   ],
   "source": [
    "labels"
   ]
  },
  {
   "cell_type": "code",
   "execution_count": 29,
   "id": "50f74454",
   "metadata": {},
   "outputs": [
    {
     "data": {
      "application/javascript": [
       "window.require && require([\"base/js/namespace\"],function(Jupyter){Jupyter.notebook.save_checkpoint()})"
      ],
      "text/plain": [
       "<IPython.core.display.Javascript object>"
      ]
     },
     "metadata": {},
     "output_type": "display_data"
    },
    {
     "name": "stderr",
     "output_type": "stream",
     "text": [
      "\u001b[31m[jovian] Error: The current API key is invalid or expired.\u001b[0m\n"
     ]
    },
    {
     "name": "stdout",
     "output_type": "stream",
     "text": [
      "[jovian] Please enter your API key ( from https://jovian.ai/ ):\u001b[0m\n",
      "API KEY: ········\n"
     ]
    },
    {
     "name": "stderr",
     "output_type": "stream",
     "text": [
      "\u001b[31m[jovian] Error: The current API key is invalid or expired.\u001b[0m\n"
     ]
    },
    {
     "name": "stdout",
     "output_type": "stream",
     "text": [
      "[jovian] Please enter your API key ( from https://jovian.ai/ ):\u001b[0m\n",
      "API KEY: ········\n"
     ]
    },
    {
     "ename": "ApiError",
     "evalue": "The API key provided is invalid or expired.",
     "output_type": "error",
     "traceback": [
      "\u001b[1;31m---------------------------------------------------------------------------\u001b[0m",
      "\u001b[1;31mApiError\u001b[0m                                  Traceback (most recent call last)",
      "Input \u001b[1;32mIn [29]\u001b[0m, in \u001b[0;36m<cell line: 2>\u001b[1;34m()\u001b[0m\n\u001b[0;32m      1\u001b[0m \u001b[38;5;66;03m##save and commit\u001b[39;00m\n\u001b[1;32m----> 2\u001b[0m \u001b[43mjovian\u001b[49m\u001b[38;5;241;43m.\u001b[39;49m\u001b[43mcommit\u001b[49m\u001b[43m(\u001b[49m\u001b[43m)\u001b[49m\n",
      "File \u001b[1;32mC:\\ProgramData\\Anaconda3\\envs\\tf-gpu\\lib\\site-packages\\jovian\\utils\\commit.py:196\u001b[0m, in \u001b[0;36mcommit\u001b[1;34m(message, files, outputs, environment, privacy, filename, project, new_project, git_commit, git_message, **kwargs)\u001b[0m\n\u001b[0;32m    193\u001b[0m     \u001b[38;5;28;01mreturn\u001b[39;00m\n\u001b[0;32m    195\u001b[0m \u001b[38;5;66;03m# Retrieve Gist ID & title\u001b[39;00m\n\u001b[1;32m--> 196\u001b[0m project_title, project_id \u001b[38;5;241m=\u001b[39m \u001b[43m_parse_project\u001b[49m\u001b[43m(\u001b[49m\u001b[43mproject\u001b[49m\u001b[43m,\u001b[49m\u001b[43m \u001b[49m\u001b[43mfilename\u001b[49m\u001b[43m,\u001b[49m\u001b[43m \u001b[49m\u001b[43mnew_project\u001b[49m\u001b[43m)\u001b[49m\n\u001b[0;32m    198\u001b[0m \u001b[38;5;66;03m# Create or update gist (with title and )\u001b[39;00m\n\u001b[0;32m    199\u001b[0m res \u001b[38;5;241m=\u001b[39m api\u001b[38;5;241m.\u001b[39mcreate_gist_simple(filename, project_id, privacy, project_title, message)\n",
      "File \u001b[1;32mC:\\ProgramData\\Anaconda3\\envs\\tf-gpu\\lib\\site-packages\\jovian\\utils\\commit.py:309\u001b[0m, in \u001b[0;36m_parse_project\u001b[1;34m(project, filename, new_project)\u001b[0m\n\u001b[0;32m    306\u001b[0m project_id \u001b[38;5;241m=\u001b[39m metadata[\u001b[38;5;124m'\u001b[39m\u001b[38;5;124mslug\u001b[39m\u001b[38;5;124m'\u001b[39m]\n\u001b[0;32m    308\u001b[0m \u001b[38;5;66;03m# Check if the current user can commit to this project\u001b[39;00m\n\u001b[1;32m--> 309\u001b[0m permissions \u001b[38;5;241m=\u001b[39m \u001b[43mapi\u001b[49m\u001b[38;5;241;43m.\u001b[39;49m\u001b[43mget_gist_access\u001b[49m\u001b[43m(\u001b[49m\u001b[43mproject_id\u001b[49m\u001b[43m)\u001b[49m\n\u001b[0;32m    310\u001b[0m \u001b[38;5;28;01mif\u001b[39;00m \u001b[38;5;129;01mnot\u001b[39;00m permissions[\u001b[38;5;124m'\u001b[39m\u001b[38;5;124mwrite\u001b[39m\u001b[38;5;124m'\u001b[39m]:\n\u001b[0;32m    311\u001b[0m     \u001b[38;5;28;01mreturn\u001b[39;00m project_title, \u001b[38;5;28;01mNone\u001b[39;00m\n",
      "File \u001b[1;32mC:\\ProgramData\\Anaconda3\\envs\\tf-gpu\\lib\\site-packages\\jovian\\utils\\api.py:45\u001b[0m, in \u001b[0;36mget_gist_access\u001b[1;34m(slug)\u001b[0m\n\u001b[0;32m     43\u001b[0m \u001b[38;5;28;01mdef\u001b[39;00m \u001b[38;5;21mget_gist_access\u001b[39m(slug):\n\u001b[0;32m     44\u001b[0m     \u001b[38;5;124;03m\"\"\"Get the access permission of a gist\"\"\"\u001b[39;00m\n\u001b[1;32m---> 45\u001b[0m     res \u001b[38;5;241m=\u001b[39m \u001b[43mget\u001b[49m\u001b[43m(\u001b[49m\u001b[43murl\u001b[49m\u001b[38;5;241;43m=\u001b[39;49m\u001b[43m_u\u001b[49m\u001b[43m(\u001b[49m\u001b[38;5;124;43m'\u001b[39;49m\u001b[38;5;124;43m/gist/\u001b[39;49m\u001b[38;5;124;43m'\u001b[39;49m\u001b[43m \u001b[49m\u001b[38;5;241;43m+\u001b[39;49m\u001b[43m \u001b[49m\u001b[43mslug\u001b[49m\u001b[43m \u001b[49m\u001b[38;5;241;43m+\u001b[39;49m\u001b[43m \u001b[49m\u001b[38;5;124;43m'\u001b[39;49m\u001b[38;5;124;43m/check-access\u001b[39;49m\u001b[38;5;124;43m'\u001b[39;49m\u001b[43m)\u001b[49m\u001b[43m,\u001b[49m\u001b[43m \u001b[49m\u001b[43mheaders\u001b[49m\u001b[38;5;241;43m=\u001b[39;49m\u001b[43m_h\u001b[49m\u001b[43m(\u001b[49m\u001b[43m)\u001b[49m\u001b[43m)\u001b[49m\n\u001b[0;32m     46\u001b[0m     \u001b[38;5;28;01mif\u001b[39;00m res\u001b[38;5;241m.\u001b[39mstatus_code \u001b[38;5;241m==\u001b[39m \u001b[38;5;241m200\u001b[39m:\n\u001b[0;32m     47\u001b[0m         \u001b[38;5;28;01mreturn\u001b[39;00m res\u001b[38;5;241m.\u001b[39mjson()[\u001b[38;5;124m'\u001b[39m\u001b[38;5;124mdata\u001b[39m\u001b[38;5;124m'\u001b[39m]\n",
      "File \u001b[1;32mC:\\ProgramData\\Anaconda3\\envs\\tf-gpu\\lib\\site-packages\\jovian\\utils\\request.py:21\u001b[0m, in \u001b[0;36mretry.<locals>._request_wrapper\u001b[1;34m(*args, **kwargs)\u001b[0m\n\u001b[0;32m     19\u001b[0m     \u001b[38;5;66;03m# This will ensure that fresh api token is requested\u001b[39;00m\n\u001b[0;32m     20\u001b[0m     \u001b[38;5;28;01mif\u001b[39;00m \u001b[38;5;124m'\u001b[39m\u001b[38;5;124mheaders\u001b[39m\u001b[38;5;124m'\u001b[39m \u001b[38;5;129;01min\u001b[39;00m kwargs:\n\u001b[1;32m---> 21\u001b[0m         kwargs[\u001b[38;5;124m'\u001b[39m\u001b[38;5;124mheaders\u001b[39m\u001b[38;5;124m'\u001b[39m][\u001b[38;5;124m'\u001b[39m\u001b[38;5;124mAuthorization\u001b[39m\u001b[38;5;124m'\u001b[39m] \u001b[38;5;241m=\u001b[39m \u001b[38;5;124m\"\u001b[39m\u001b[38;5;124mBearer \u001b[39m\u001b[38;5;124m\"\u001b[39m \u001b[38;5;241m+\u001b[39m \u001b[43mget_api_key\u001b[49m\u001b[43m(\u001b[49m\u001b[43m)\u001b[49m\n\u001b[0;32m     22\u001b[0m \u001b[38;5;28;01melse\u001b[39;00m:\n\u001b[0;32m     23\u001b[0m     \u001b[38;5;28;01mreturn\u001b[39;00m res\n",
      "File \u001b[1;32mC:\\ProgramData\\Anaconda3\\envs\\tf-gpu\\lib\\site-packages\\jovian\\utils\\credentials.py:270\u001b[0m, in \u001b[0;36mget_api_key\u001b[1;34m()\u001b[0m\n\u001b[0;32m    268\u001b[0m     key, _ \u001b[38;5;241m=\u001b[39m request_api_key(), \u001b[38;5;124m'\u001b[39m\u001b[38;5;124mrequest\u001b[39m\u001b[38;5;124m'\u001b[39m\n\u001b[0;32m    269\u001b[0m     \u001b[38;5;28;01mif\u001b[39;00m \u001b[38;5;129;01mnot\u001b[39;00m validate_api_key(key):\n\u001b[1;32m--> 270\u001b[0m         \u001b[38;5;28;01mraise\u001b[39;00m ApiError(\u001b[38;5;124m'\u001b[39m\u001b[38;5;124mThe API key provided is invalid or expired.\u001b[39m\u001b[38;5;124m'\u001b[39m)\n\u001b[0;32m    271\u001b[0m write_api_key(key)\n\u001b[0;32m    272\u001b[0m \u001b[38;5;28;01mreturn\u001b[39;00m key\n",
      "\u001b[1;31mApiError\u001b[0m: The API key provided is invalid or expired."
     ]
    }
   ],
   "source": [
    "##save and commit\n",
    "jovian.commit()"
   ]
  },
  {
   "cell_type": "code",
   "execution_count": 30,
   "id": "4c455942",
   "metadata": {},
   "outputs": [
    {
     "data": {
      "text/plain": [
       "tensor(0.0600)"
      ]
     },
     "execution_count": 30,
     "metadata": {},
     "output_type": "execute_result"
    }
   ],
   "source": [
    "torch.sum(labels==preds)/len(labels)"
   ]
  },
  {
   "cell_type": "code",
   "execution_count": 31,
   "id": "4eee572c",
   "metadata": {},
   "outputs": [],
   "source": [
    "def accuracy(l1,l2):\n",
    "    acc=torch.sum(l1==l2)/len(l1)\n",
    "    return acc"
   ]
  },
  {
   "cell_type": "code",
   "execution_count": 32,
   "id": "7384234d",
   "metadata": {},
   "outputs": [
    {
     "data": {
      "text/plain": [
       "tensor(0.0600)"
      ]
     },
     "execution_count": 32,
     "metadata": {},
     "output_type": "execute_result"
    }
   ],
   "source": [
    "accuracy(labels,preds)"
   ]
  },
  {
   "cell_type": "code",
   "execution_count": 33,
   "id": "aa39de9e",
   "metadata": {},
   "outputs": [],
   "source": [
    "loss_fn=F.cross_entropy"
   ]
  },
  {
   "cell_type": "code",
   "execution_count": 34,
   "id": "6451780d",
   "metadata": {},
   "outputs": [
    {
     "name": "stdout",
     "output_type": "stream",
     "text": [
      "tensor(2.3639, grad_fn=<NllLossBackward0>)\n"
     ]
    }
   ],
   "source": [
    "loss=loss_fn(outputs,labels)\n",
    "print(loss)"
   ]
  },
  {
   "cell_type": "code",
   "execution_count": 35,
   "id": "6d09dd79",
   "metadata": {},
   "outputs": [],
   "source": [
    "learning_rate=1e-3\n",
    "optimizer=torch.optim.SGD(model.parameters(),learning_rate)"
   ]
  },
  {
   "cell_type": "code",
   "execution_count": 36,
   "id": "8b4105b0",
   "metadata": {},
   "outputs": [],
   "source": [
    "def loss_batch(model,loss_func,xb,yb,opt=None,metric=None):\n",
    "    preds=model(xb)\n",
    "    loss=loss_func(preds,yb)\n",
    "    if opt is not None:\n",
    "        loss.backward()#computes gradient\n",
    "        opt.step()#updates the parameters\n",
    "        opt.zero_grad()\n",
    "    \n",
    "    metric_result = None\n",
    "    if metric is not None:\n",
    "        metric_result=metric(preds,yb)\n",
    "    \n",
    "    return loss.item(),len(xb),metric_result\n",
    "\n",
    "        "
   ]
  },
  {
   "cell_type": "code",
   "execution_count": 37,
   "id": "26b60fe3",
   "metadata": {},
   "outputs": [],
   "source": [
    "def evaluate(model,loss_fn,valid_dl, metric=None):\n",
    "    with torch.no_grad():\n",
    "        results=[loss_batch(model,loss_fn,xb,yb,metric=metric) for xb,yb in valid_dl]\n",
    "        losses,nums,metrics=zip(*results)\n",
    "        \n",
    "        total=np.sum(nums)\n",
    "        avg_loss=np.sum(np.multiply(losses,nums))/total\n",
    "        avg_metric=None\n",
    "        if metric is not None:\n",
    "            #average of metric across batches\n",
    "            avg_metric=np.sum(np.multiply(metrics,nums))/total\n",
    "    return avg_loss, total, avg_metric\n",
    "    "
   ]
  },
  {
   "cell_type": "code",
   "execution_count": 38,
   "id": "507bd73f",
   "metadata": {},
   "outputs": [],
   "source": [
    "def accuracy(outputs,labels):\n",
    "    _,preds=torch.max(outputs,dim=1)\n",
    "    return torch.sum(preds==labels).item()/len(preds)"
   ]
  },
  {
   "cell_type": "code",
   "execution_count": 39,
   "id": "3447bf5e",
   "metadata": {},
   "outputs": [
    {
     "name": "stdout",
     "output_type": "stream",
     "text": [
      "Loss: 2.3261, Accuracy: 0.1330\n"
     ]
    }
   ],
   "source": [
    "val_loss, total,val_acc=evaluate(model,loss_fn, val_loader, metric=accuracy)\n",
    "print('Loss: {:.4f}, Accuracy: {:.4f}'.format(val_loss,val_acc))"
   ]
  },
  {
   "cell_type": "code",
   "execution_count": 40,
   "id": "e0333baf",
   "metadata": {},
   "outputs": [],
   "source": [
    "def fit(epochs,model,loss_fn,opt, train_dl,valid_dl,metric=None):\n",
    "    for epoch in range(epochs):\n",
    "        #training\n",
    "        for xb,yb in train_dl:\n",
    "            loss,_,_=loss_batch(model,loss_fn,xb,yb,opt)\n",
    "            \n",
    "        #Evaluation\n",
    "        result=evaluate(model,loss_fn,valid_dl,metric)\n",
    "        val_loss,total,val_metric=result\n",
    "        \n",
    "        #print the progress\n",
    "        if metric is None:\n",
    "           print('Epoch [{}/{}], loss: {:.4f}'.format(epoch+1,epochs,val_loss)) \n",
    "        else:\n",
    "            print('Epoch [{}/{}],Loss: {:.4f}, {}: {:.4f}'.format(epoch+1,epochs,val_loss,metric.__name__,val_metric))"
   ]
  },
  {
   "cell_type": "code",
   "execution_count": 41,
   "id": "38f9699a",
   "metadata": {},
   "outputs": [],
   "source": [
    "#redefine model and optimizzer\n",
    "model=MnistModel()\n",
    "optimizer=torch.optim.SGD(model.parameters(),lr=learning_rate)"
   ]
  },
  {
   "cell_type": "code",
   "execution_count": 42,
   "id": "3d88232b",
   "metadata": {},
   "outputs": [
    {
     "name": "stdout",
     "output_type": "stream",
     "text": [
      "Epoch [1/5],Loss: 1.8661, accuracy: 0.6720\n",
      "Epoch [2/5],Loss: 1.5714, accuracy: 0.7557\n",
      "Epoch [3/5],Loss: 1.3631, accuracy: 0.7842\n",
      "Epoch [4/5],Loss: 1.2128, accuracy: 0.8006\n",
      "Epoch [5/5],Loss: 1.1009, accuracy: 0.8148\n"
     ]
    }
   ],
   "source": [
    "fit(5,model,F.cross_entropy,optimizer,train_loader,val_loader,accuracy)"
   ]
  },
  {
   "cell_type": "code",
   "execution_count": 60,
   "id": "097a0cf2",
   "metadata": {},
   "outputs": [
    {
     "data": {
      "text/plain": [
       "torch.Size([1, 28, 28])"
      ]
     },
     "execution_count": 60,
     "metadata": {},
     "output_type": "execute_result"
    }
   ],
   "source": [
    "\n"
   ]
  },
  {
   "cell_type": "code",
   "execution_count": 54,
   "id": "6499cab1",
   "metadata": {},
   "outputs": [
    {
     "name": "stdout",
     "output_type": "stream",
     "text": [
      "[jovian] Hyperparams logged.\u001b[0m\r\n"
     ]
    }
   ],
   "source": [
    "import jovian\n",
    "\n",
    "jovian.log_hyperparams({'opt':'SGD','lr':0.001,'batch_size':'100','arch':'logistic-regression'})"
   ]
  },
  {
   "cell_type": "code",
   "execution_count": 55,
   "id": "a028ae2a",
   "metadata": {},
   "outputs": [
    {
     "name": "stdout",
     "output_type": "stream",
     "text": [
      "[jovian] Metrics logged.\u001b[0m\r\n"
     ]
    }
   ],
   "source": [
    "jovian.log_metrics({'val_loss':1.1075,'val_acc':0.8073})"
   ]
  },
  {
   "cell_type": "markdown",
   "id": "61dbca3b",
   "metadata": {},
   "source": [
    "## Testing in test data"
   ]
  },
  {
   "cell_type": "code",
   "execution_count": 43,
   "id": "eb8ca28b",
   "metadata": {},
   "outputs": [],
   "source": [
    "#prediction on a run time image\n",
    "test_dataset=MNIST(root='data/',train=False,transform=transforms.ToTensor(),download=True)\n"
   ]
  },
  {
   "cell_type": "code",
   "execution_count": 44,
   "id": "170cab86",
   "metadata": {},
   "outputs": [
    {
     "name": "stdout",
     "output_type": "stream",
     "text": [
      "label : 7\n"
     ]
    },
    {
     "data": {
      "image/png": "[encoded data removed]",
      "text/plain": [
       "<Figure size 432x288 with 1 Axes>"
      ]
     },
     "metadata": {
      "needs_background": "light"
     },
     "output_type": "display_data"
    }
   ],
   "source": [
    "img,label=test_dataset[0]\n",
    "plt.imshow(img[0],cmap='gray')\n",
    "print('label :',label)"
   ]
  },
  {
   "cell_type": "code",
   "execution_count": 45,
   "id": "3db61a4a",
   "metadata": {},
   "outputs": [
    {
     "data": {
      "text/plain": [
       "torch.Size([1, 1, 28, 28])"
      ]
     },
     "execution_count": 45,
     "metadata": {},
     "output_type": "execute_result"
    }
   ],
   "source": [
    "img.unsqueeze(0).shape\n"
   ]
  },
  {
   "cell_type": "code",
   "execution_count": 46,
   "id": "2888c8ca",
   "metadata": {},
   "outputs": [],
   "source": [
    "def pred_image(img,model):\n",
    "    xb=img.unsqueeze(0)\n",
    "    yb=model(xb)\n",
    "    _,preds=torch.max(yb,dim=1)\n",
    "    return preds[0].item()"
   ]
  },
  {
   "cell_type": "code",
   "execution_count": 47,
   "id": "9bc8ea15",
   "metadata": {},
   "outputs": [
    {
     "name": "stdout",
     "output_type": "stream",
     "text": [
      "label : 0 , predicted:  0\n"
     ]
    },
    {
     "data": {
      "image/png": "[encoded data removed]",
      "text/plain": [
       "<Figure size 432x288 with 1 Axes>"
      ]
     },
     "metadata": {
      "needs_background": "light"
     },
     "output_type": "display_data"
    }
   ],
   "source": [
    "img,label=test_dataset[10]\n",
    "plt.imshow(img[0],cmap='gray')\n",
    "print('label :',label, ', predicted: ',pred_image(img,model))\n"
   ]
  },
  {
   "cell_type": "code",
   "execution_count": 68,
   "id": "c45c5f3a",
   "metadata": {},
   "outputs": [],
   "source": [
    "torch.save(model.state_dict(),'mnist-logistic.pth')"
   ]
  },
  {
   "cell_type": "code",
   "execution_count": 48,
   "id": "bf1b3251",
   "metadata": {},
   "outputs": [
    {
     "data": {
      "text/plain": [
       "OrderedDict([('linear.weight',\n",
       "              tensor([[ 0.0308, -0.0193, -0.0198,  ...,  0.0067,  0.0201,  0.0304],\n",
       "                      [-0.0038,  0.0350,  0.0017,  ..., -0.0167, -0.0245, -0.0314],\n",
       "                      [ 0.0122,  0.0154,  0.0027,  ...,  0.0351,  0.0213, -0.0198],\n",
       "                      ...,\n",
       "                      [-0.0283,  0.0223, -0.0235,  ...,  0.0070, -0.0195, -0.0002],\n",
       "                      [-0.0285,  0.0347, -0.0087,  ..., -0.0047, -0.0067, -0.0181],\n",
       "                      [-0.0355,  0.0122,  0.0129,  ..., -0.0038,  0.0251, -0.0021]])),\n",
       "             ('linear.bias',\n",
       "              tensor([-0.0420,  0.0524, -0.0225, -0.0026,  0.0197,  0.0268, -0.0364,  0.0211,\n",
       "                      -0.0616, -0.0154]))])"
      ]
     },
     "execution_count": 48,
     "metadata": {},
     "output_type": "execute_result"
    }
   ],
   "source": [
    "#to load the state_dict()\n",
    "model2=MnistModel()\n",
    "model2.load_state_dict(torch.load('mnist-logistic.pth'))\n",
    "model2.state_dict()"
   ]
  },
  {
   "cell_type": "code",
   "execution_count": 70,
   "id": "8f241bed",
   "metadata": {},
   "outputs": [
    {
     "data": {
      "application/javascript": [
       "window.require && require([\"base/js/namespace\"],function(Jupyter){Jupyter.notebook.save_checkpoint()})"
      ],
      "text/plain": [
       "<IPython.core.display.Javascript object>"
      ]
     },
     "metadata": {},
     "output_type": "display_data"
    },
    {
     "name": "stdout",
     "output_type": "stream",
     "text": [
      "[jovian] Updating notebook \"v-jha85/torch-logistic-regression\" on https://jovian.ai/\u001b[0m\n",
      "[jovian] Attaching records (metrics, hyperparameters, dataset etc.)\u001b[0m\n",
      "[jovian] Committed successfully! https://jovian.ai/v-jha85/torch-logistic-regression\u001b[0m\n"
     ]
    },
    {
     "data": {
      "text/plain": [
       "'https://jovian.ai/v-jha85/torch-logistic-regression'"
      ]
     },
     "execution_count": 70,
     "metadata": {},
     "output_type": "execute_result"
    }
   ],
   "source": [
    "jovian.commit(atrifacts=['mnist-logistic.pth'])"
   ]
  },
  {
   "cell_type": "code",
   "execution_count": null,
   "id": "a2857081",
   "metadata": {},
   "outputs": [],
   "source": []
  }
 ],
 "metadata": {
  "kernelspec": {
   "display_name": "Python 3 (ipykernel)",
   "language": "python",
   "name": "python3"
  },
  "language_info": {
   "codemirror_mode": {
    "name": "ipython",
    "version": 3
   },
   "file_extension": ".py",
   "mimetype": "text/x-python",
   "name": "python",
   "nbconvert_exporter": "python",
   "pygments_lexer": "ipython3",
   "version": "3.8.13"
  }
 },
 "nbformat": 4,
 "nbformat_minor": 5
}
